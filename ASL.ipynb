{
 "cells": [
  {
   "cell_type": "code",
   "execution_count": 1,
   "id": "5e4311f9-5486-446d-8a24-76230082e1ce",
   "metadata": {},
   "outputs": [],
   "source": [
    "import os\n",
    "import cv2\n",
    "import numpy as np\n",
    "import mediapipe as mp\n",
    "from tqdm import tqdm\n",
    "\n",
    "\n",
    "# ================================\n",
    "# Initialisation MediaPipe Hands\n",
    "# ================================\n",
    "mp_hands = mp.solutions.hands\n",
    "\n",
    "def initialize_model():\n",
    "    return mp_hands.Hands(\n",
    "        static_image_mode=True,\n",
    "        max_num_hands=MAX_HANDS,\n",
    "        min_detection_confidence=0.7\n",
    "    )\n",
    "\n",
    "# ================================\n",
    "# Extraire les keypoints de la main\n",
    "# ================================\n",
    "def extract_hand_keypoints(image, hands_model):\n",
    "    image_rgb = cv2.cvtColor(image, cv2.COLOR_BGR2RGB)\n",
    "    result = hands_model.process(image_rgb)\n",
    "    if result.multi_hand_landmarks:\n",
    "        landmarks = result.multi_hand_landmarks[0]\n",
    "        return np.array([[lm.x, lm.y, lm.z] for lm in landmarks.landmark]).flatten()\n",
    "    return None\n",
    "\n",
    "# ================================\n",
    "# Traitement d'une image\n",
    "# ================================\n",
    "def process_image(image_path, hands_model):\n",
    "    image = cv2.imread(image_path)\n",
    "    if image is None:\n",
    "        return None\n",
    "    return extract_hand_keypoints(image, hands_model)\n",
    "\n",
    "# ================================\n",
    "# Traitement de tout le dataset\n",
    "# ================================\n",
    "def process_dataset(dataset_path, output_path):\n",
    "    hands_model = initialize_model()\n",
    "\n",
    "    os.makedirs(output_path, exist_ok=True)\n",
    "\n",
    "    for label in tqdm(sorted(os.listdir(dataset_path)), desc=\"Traitement des lettres\"):\n",
    "        label_input_path = os.path.join(dataset_path, label)\n",
    "        label_output_path = os.path.join(output_path, label)\n",
    "\n",
    "        if not os.path.isdir(label_input_path):\n",
    "            continue\n",
    "\n",
    "        os.makedirs(label_output_path, exist_ok=True)\n",
    "\n",
    "        for idx, img_file in enumerate(os.listdir(label_input_path)):\n",
    "            img_path = os.path.join(label_input_path, img_file)\n",
    "            keypoints = process_image(img_path, hands_model)\n",
    "            if keypoints is not None:\n",
    "                output_file = os.path.join(label_output_path, f\"{idx}.npy\")\n",
    "                np.save(output_file, keypoints)\n",
    "\n",
    "\n"
   ]
  },
  {
   "cell_type": "code",
   "execution_count": 1,
   "id": "ebcf63cc-186e-4b2e-a1ec-2109a69c34b4",
   "metadata": {},
   "outputs": [],
   "source": [
    "# ================================\n",
    "# Configurations\n",
    "# ================================\n",
    "#DATASET_PATH = r\"C:\\Users\\LENOVO\\Desktop\\SDIA_S2_Mast\\IA et Projet\\ASL_Alphabet_Dataset\\asl_alphabet_train\"           \n",
    "OUTPUT_PATH = \"data_process\"          \n",
    "MAX_HANDS = 1"
   ]
  },
  {
   "cell_type": "code",
   "execution_count": 2,
   "id": "b424980f-e1b1-47ee-908f-d76903c1bcd8",
   "metadata": {},
   "outputs": [],
   "source": [
    "import os\n",
    "import numpy as np\n",
    "\n",
    "def load_dataset(processed_path=\"processed\"):\n",
    "    X = []\n",
    "    y = []\n",
    "    labels = sorted(os.listdir(processed_path))  # ['A', 'B', ..., 'Z']\n",
    "    label_to_index = {label: idx for idx, label in enumerate(labels)}\n",
    "\n",
    "    for label in labels:\n",
    "        label_dir = os.path.join(processed_path, label)\n",
    "        for file in os.listdir(label_dir):\n",
    "            if file.endswith(\".npy\"):\n",
    "                path = os.path.join(label_dir, file)\n",
    "                X.append(np.load(path))\n",
    "                y.append(label_to_index[label])\n",
    "\n",
    "    return np.array(X), np.array(y), label_to_index\n"
   ]
  },
  {
   "cell_type": "code",
   "execution_count": 3,
   "id": "3a0246fa-047f-46af-b1f9-19998e4114d7",
   "metadata": {},
   "outputs": [],
   "source": [
    "from sklearn.model_selection import train_test_split\n",
    "from sklearn.preprocessing import StandardScaler\n",
    "\n",
    "X, y, label_map = load_dataset(OUTPUT_PATH)\n",
    "X_train, X_test, y_train, y_test = train_test_split(X, y, test_size=0.2, random_state=42)\n",
    "\n",
    "scaler = StandardScaler()\n",
    "X_train = scaler.fit_transform(X_train)\n",
    "X_test = scaler.transform(X_test)\n"
   ]
  },
  {
   "cell_type": "code",
   "execution_count": 6,
   "id": "83751888-7f21-4270-b7f7-382592264c89",
   "metadata": {},
   "outputs": [
    {
     "data": {
      "text/plain": [
       "(112662, 63)"
      ]
     },
     "execution_count": 6,
     "metadata": {},
     "output_type": "execute_result"
    }
   ],
   "source": [
    "X_train.shape"
   ]
  },
  {
   "cell_type": "code",
   "execution_count": 34,
   "id": "83fe3f52-8831-4f01-83ae-783a65e25ce5",
   "metadata": {},
   "outputs": [
    {
     "name": "stdout",
     "output_type": "stream",
     "text": [
      "Accuracy: 0.99162110345807\n"
     ]
    }
   ],
   "source": [
    "from sklearn.ensemble import RandomForestClassifier\n",
    "from sklearn.metrics import accuracy_score, classification_report\n",
    "\n",
    "clf = RandomForestClassifier(n_estimators=100, random_state=42)\n",
    "clf.fit(X_train, y_train)\n",
    "\n",
    "y_pred = clf.predict(X_test)\n",
    "print(\"Accuracy:\", accuracy_score(y_test, y_pred))\n"
   ]
  },
  {
   "cell_type": "code",
   "execution_count": 7,
   "id": "67457aea-d08d-4388-905c-52f6ea5e01bf",
   "metadata": {},
   "outputs": [
    {
     "name": "stdout",
     "output_type": "stream",
     "text": [
      "\n",
      "=== SVM (Support Vector Machine) ===\n",
      "Accuracy: 0.9854789462472484\n",
      "Classification Report:\n",
      "               precision    recall  f1-score   support\n",
      "\n",
      "           0       0.98      0.99      0.99       984\n",
      "           1       1.00      1.00      1.00      1137\n",
      "           2       0.98      0.99      0.99       854\n",
      "           3       0.99      1.00      0.99      1131\n",
      "           4       0.99      0.99      0.99       997\n",
      "           5       1.00      1.00      1.00      1497\n",
      "           6       0.98      0.99      0.99      1125\n",
      "           7       0.99      0.99      0.99      1125\n",
      "           8       0.98      0.97      0.98      1084\n",
      "           9       0.99      0.98      0.99      1038\n",
      "          10       0.98      0.99      0.99      1287\n",
      "          11       1.00      1.00      1.00      1276\n",
      "          12       0.90      0.94      0.92       538\n",
      "          13       0.95      0.89      0.92       473\n",
      "          14       0.99      0.99      0.99       952\n",
      "          15       0.99      0.99      0.99       888\n",
      "          16       0.99      0.99      0.99       887\n",
      "          17       0.96      0.97      0.97      1147\n",
      "          18       0.99      0.99      0.99      1011\n",
      "          19       0.99      0.99      0.99      1087\n",
      "          20       0.98      0.97      0.97      1157\n",
      "          21       0.99      0.97      0.98      1146\n",
      "          22       0.99      0.99      0.99      1151\n",
      "          23       0.99      0.99      0.99      1028\n",
      "          24       0.99      0.99      0.99      1095\n",
      "          25       0.99      0.99      0.99       990\n",
      "          26       0.98      0.99      0.99       582\n",
      "          28       0.98      0.98      0.98       499\n",
      "\n",
      "    accuracy                           0.99     28166\n",
      "   macro avg       0.98      0.98      0.98     28166\n",
      "weighted avg       0.99      0.99      0.99     28166\n",
      "\n"
     ]
    }
   ],
   "source": [
    "from sklearn.svm import SVC\n",
    "from sklearn.metrics import accuracy_score, classification_report\n",
    "# -------------------------------\n",
    "# SVM\n",
    "# -------------------------------\n",
    "clf_svm = SVC(kernel='linear')\n",
    "clf_svm.fit(X_train, y_train)\n",
    "\n",
    "y_pred_svm = clf_svm.predict(X_test)\n",
    "print(\"\\n=== SVM (Support Vector Machine) ===\")\n",
    "print(\"Accuracy:\", accuracy_score(y_test, y_pred_svm))\n",
    "print(\"Classification Report:\\n\", classification_report(y_test, y_pred_svm))"
   ]
  },
  {
   "cell_type": "code",
   "execution_count": 35,
   "id": "fe79eec4-af5f-41d8-91ec-c4ced2d72437",
   "metadata": {},
   "outputs": [
    {
     "name": "stdout",
     "output_type": "stream",
     "text": [
      "              precision    recall  f1-score   support\n",
      "\n",
      "           A       0.99      0.99      0.99       984\n",
      "           B       0.99      1.00      1.00      1137\n",
      "           C       0.99      0.99      0.99       854\n",
      "           D       1.00      0.99      1.00      1131\n",
      "           E       0.99      0.99      0.99       997\n",
      "           F       1.00      1.00      1.00      1497\n",
      "           G       1.00      0.99      1.00      1125\n",
      "           H       0.99      1.00      0.99      1125\n",
      "           I       0.99      0.99      0.99      1084\n",
      "           J       1.00      1.00      1.00      1038\n",
      "           K       0.99      0.99      0.99      1287\n",
      "           L       1.00      1.00      1.00      1276\n",
      "           M       0.96      0.99      0.97       538\n",
      "           N       0.98      0.95      0.97       473\n",
      "           O       0.99      0.99      0.99       952\n",
      "           P       1.00      1.00      1.00       888\n",
      "           Q       1.00      1.00      1.00       887\n",
      "           R       0.99      0.98      0.98      1147\n",
      "           S       0.98      0.99      0.98      1011\n",
      "           T       1.00      0.98      0.99      1087\n",
      "           U       0.98      0.98      0.98      1157\n",
      "           V       0.99      0.99      0.99      1146\n",
      "           W       1.00      1.00      1.00      1151\n",
      "           X       0.99      1.00      0.99      1028\n",
      "           Y       1.00      0.99      1.00      1095\n",
      "           Z       1.00      1.00      1.00       990\n",
      "         del       0.99      1.00      1.00       582\n",
      "       space       0.99      0.98      0.99       499\n",
      "\n",
      "    accuracy                           0.99     28166\n",
      "   macro avg       0.99      0.99      0.99     28166\n",
      "weighted avg       0.99      0.99      0.99     28166\n",
      "\n"
     ]
    }
   ],
   "source": [
    "from sklearn.metrics import classification_report\n",
    "\n",
    "labels = sorted(set(y_test))  # classes réellement présentes dans y_test\n",
    "target_names = [k for k, v in sorted(label_map.items(), key=lambda item: item[1]) if v in labels]\n",
    "\n",
    "print(classification_report(y_test, y_pred, labels=labels, target_names=target_names))\n"
   ]
  },
  {
   "cell_type": "code",
   "execution_count": 12,
   "id": "a8747f74-99f4-4bcd-ac67-2866c7e757c4",
   "metadata": {},
   "outputs": [
    {
     "data": {
      "image/png": "[encoded data removed]",
      "text/plain": [
       "<Figure size 1000x600 with 1 Axes>"
      ]
     },
     "metadata": {},
     "output_type": "display_data"
    }
   ],
   "source": [
    "from sklearn.model_selection import learning_curve\n",
    "import matplotlib.pyplot as plt\n",
    "import numpy as np\n",
    "\n",
    "train_sizes, train_scores, test_scores = learning_curve(clf, X_train, y_train, cv=5, scoring='accuracy', n_jobs=-1)\n",
    "\n",
    "train_mean = np.mean(train_scores, axis=1)\n",
    "test_mean = np.mean(test_scores, axis=1)\n",
    "\n",
    "plt.figure(figsize=(10,6))\n",
    "plt.plot(train_sizes, train_mean, 'o-', label='Training Accuracy')\n",
    "plt.plot(train_sizes, test_mean, 'o-', label='Validation Accuracy')\n",
    "plt.xlabel('Training Set Size')\n",
    "plt.ylabel('Accuracy')\n",
    "plt.title('Courbe d’apprentissage')\n",
    "plt.legend()\n",
    "plt.grid(True)\n",
    "plt.tight_layout()\n",
    "plt.show()\n"
   ]
  },
  {
   "cell_type": "code",
   "execution_count": 25,
   "id": "81646f2c-758a-4684-9f9a-86dbfc37d519",
   "metadata": {},
   "outputs": [
    {
     "data": {
      "text/plain": [
       "{'A': 0,\n",
       " 'B': 1,\n",
       " 'C': 2,\n",
       " 'D': 3,\n",
       " 'E': 4,\n",
       " 'F': 5,\n",
       " 'G': 6,\n",
       " 'H': 7,\n",
       " 'I': 8,\n",
       " 'J': 9,\n",
       " 'K': 10,\n",
       " 'L': 11,\n",
       " 'M': 12,\n",
       " 'N': 13,\n",
       " 'O': 14,\n",
       " 'P': 15,\n",
       " 'Q': 16,\n",
       " 'R': 17,\n",
       " 'S': 18,\n",
       " 'T': 19,\n",
       " 'U': 20,\n",
       " 'V': 21,\n",
       " 'W': 22,\n",
       " 'X': 23,\n",
       " 'Y': 24,\n",
       " 'Z': 25,\n",
       " 'del': 26,\n",
       " 'nothing': 27,\n",
       " 'space': 28}"
      ]
     },
     "execution_count": 25,
     "metadata": {},
     "output_type": "execute_result"
    }
   ],
   "source": [
    "label_map"
   ]
  },
  {
   "cell_type": "code",
   "execution_count": 36,
   "id": "9bfe7d4e-ce3f-4204-a5a6-5797a579a66b",
   "metadata": {},
   "outputs": [
    {
     "name": "stdout",
     "output_type": "stream",
     "text": [
      "Prédiction : A\n"
     ]
    },
    {
     "data": {
      "text/plain": [
       "'A'"
      ]
     },
     "execution_count": 36,
     "metadata": {},
     "output_type": "execute_result"
    }
   ],
   "source": [
    "# ----------------------\n",
    "# Fonction pour prédire sur une image unique (test manuel)\n",
    "# ----------------------\n",
    "def predict_image(image_path, hands_model, scaler, model, label_map):\n",
    "    # Inverser label_map pour mapping int -> string\n",
    "    inv_label_map = {v: k for k, v in label_map.items()}\n",
    "    \n",
    "    keypoints = process_image(image_path, hands_model)\n",
    "    if keypoints is None:\n",
    "        print(\"Keypoints non extraits.\")\n",
    "        return None\n",
    "    \n",
    "    keypoints_scaled = scaler.transform([keypoints])  # scaler attend un tableau 2D\n",
    "    pred = model.predict(keypoints_scaled)[0]\n",
    "    label_pred = inv_label_map.get(pred, \"Inconnu\")  # Utiliser mapping inversé ici\n",
    "    print(f\"Prédiction : {label_pred}\")\n",
    "    return label_pred\n",
    "\n",
    "# Usage\n",
    "import mediapipe as mp\n",
    "mp_hands = mp.solutions.hands\n",
    "hands_model = mp_hands.Hands(static_image_mode=True, max_num_hands=1, min_detection_confidence=0.7)\n",
    "\n",
    "image_test = r\"C:\\Users\\LENOVO\\Desktop\\SDIA_S2_Mast\\IA et Projet\\ASL_Alphabet_Dataset\\asl_alphabet_train\\A\\1.jpg\"\n",
    "predict_image(image_test, hands_model, scaler, clf, label_map)\n"
   ]
  },
  {
   "cell_type": "code",
   "execution_count": 37,
   "id": "9b526c3b-6bc8-49a8-a65b-f40a9141a257",
   "metadata": {},
   "outputs": [
    {
     "name": "stdout",
     "output_type": "stream",
     "text": [
      "Image : A_test.jpg\n",
      "Keypoints non extraits.\n",
      "---\n",
      "Image : B_test.jpg\n",
      "Prédiction : B\n",
      "---\n",
      "Image : C_test.jpg\n",
      "Keypoints non extraits.\n",
      "---\n",
      "Image : D_test.jpg\n",
      "Keypoints non extraits.\n",
      "---\n",
      "Image : E_test.jpg\n",
      "Keypoints non extraits.\n",
      "---\n",
      "Image : F_test.jpg\n",
      "Prédiction : F\n",
      "---\n",
      "Image : G_test.jpg\n",
      "Prédiction : G\n",
      "---\n",
      "Image : H_test.jpg\n",
      "Keypoints non extraits.\n",
      "---\n",
      "Image : I_test.jpg\n",
      "Prédiction : I\n",
      "---\n",
      "Image : J_test.jpg\n",
      "Prédiction : J\n",
      "---\n",
      "Image : K_test.jpg\n",
      "Prédiction : K\n",
      "---\n",
      "Image : L_test.jpg\n",
      "Prédiction : L\n",
      "---\n",
      "Image : M_test.jpg\n",
      "Keypoints non extraits.\n",
      "---\n",
      "Image : nothing_test.jpg\n",
      "Keypoints non extraits.\n",
      "---\n",
      "Image : N_test.jpg\n",
      "Keypoints non extraits.\n",
      "---\n",
      "Image : O_test.jpg\n",
      "Keypoints non extraits.\n",
      "---\n",
      "Image : P_test.jpg\n",
      "Keypoints non extraits.\n",
      "---\n",
      "Image : Q_test.jpg\n",
      "Prédiction : Q\n",
      "---\n",
      "Image : R_test.jpg\n",
      "Keypoints non extraits.\n",
      "---\n",
      "Image : space_test.jpg\n",
      "Keypoints non extraits.\n",
      "---\n",
      "Image : S_test.jpg\n",
      "Prédiction : S\n",
      "---\n",
      "Image : T_test.jpg\n",
      "Prédiction : T\n",
      "---\n",
      "Image : U_test.jpg\n",
      "Keypoints non extraits.\n",
      "---\n",
      "Image : V_test.jpg\n",
      "Keypoints non extraits.\n",
      "---\n",
      "Image : W_test.jpg\n",
      "Prédiction : W\n",
      "---\n",
      "Image : X_test.jpg\n",
      "Keypoints non extraits.\n",
      "---\n",
      "Image : Y_test.jpg\n",
      "Prédiction : Y\n",
      "---\n",
      "Image : Z_test.jpg\n",
      "Keypoints non extraits.\n",
      "---\n"
     ]
    }
   ],
   "source": [
    "import os\n",
    "\n",
    "def test_multiple_images(test_folder, hands_model, scaler, model, label_map):\n",
    "    for img_file in os.listdir(test_folder):\n",
    "        if img_file.lower().endswith(('.png', '.jpg', '.jpeg')):\n",
    "            img_path = os.path.join(test_folder, img_file)\n",
    "            print(f\"Image : {img_file}\")\n",
    "            pred = predict_image(img_path, hands_model, scaler, model, label_map)\n",
    "            print(\"---\")\n",
    "\n",
    "# Exemple d’utilisation :\n",
    "test_folder = r\"C:\\Users\\LENOVO\\Desktop\\SDIA_S2_Mast\\IA et Projet\\ASL_Alphabet_Dataset\\asl_alphabet_test\"\n",
    "\n",
    "test_multiple_images(test_folder, hands_model, scaler, clf, label_map)\n"
   ]
  },
  {
   "cell_type": "code",
   "execution_count": 39,
   "id": "7303440f-236e-4f49-9bf8-17c4a65e425b",
   "metadata": {},
   "outputs": [
    {
     "data": {
      "text/plain": [
       "['scaler.joblib']"
      ]
     },
     "execution_count": 39,
     "metadata": {},
     "output_type": "execute_result"
    }
   ],
   "source": [
    "from joblib import dump, load\n",
    "dump(clf, 'model_rf.joblib')\n",
    "dump(scaler, 'scaler.joblib')\n",
    "#clf_loaded = load('model_rf.joblib')\n"
   ]
  },
  {
   "cell_type": "code",
   "execution_count": null,
   "id": "2538bc00-fd08-4bc3-8592-2f588bea877d",
   "metadata": {},
   "outputs": [],
   "source": [
    "from joblib import load\n",
    "from sklearn.metrics import confusion_matrix, ConfusionMatrixDisplay\n",
    "\n",
    "# Charger le modèle et le scaler\n",
    "clf = load('model_rf.joblib')\n",
    "scaler = load('scaler.joblib')\n",
    "\n",
    "# Transformer le jeu de test avec le scaler chargé\n",
    "X_test_scaled = scaler.transform(X_test)\n",
    "\n",
    "# Générer les prédictions\n",
    "y_pred = clf.predict(X_test_scaled)\n",
    "\n",
    "# Calculer la matrice de confusion\n",
    "cm = confusion_matrix(y_test, y_pred)\n",
    "\n",
    "# Afficher la matrice de confusion\n",
    "disp = ConfusionMatrixDisplay(confusion_matrix=cm)\n",
    "disp.plot()\n",
    "import matplotlib.pyplot as plt\n",
    "plt.show()\n"
   ]
  }
 ],
 "metadata": {
  "kernelspec": {
   "display_name": "Python 3 (ipykernel)",
   "language": "python",
   "name": "python3"
  },
  "language_info": {
   "codemirror_mode": {
    "name": "ipython",
    "version": 3
   },
   "file_extension": ".py",
   "mimetype": "text/x-python",
   "name": "python",
   "nbconvert_exporter": "python",
   "pygments_lexer": "ipython3",
   "version": "3.12.10"
  }
 },
 "nbformat": 4,
 "nbformat_minor": 5
}
